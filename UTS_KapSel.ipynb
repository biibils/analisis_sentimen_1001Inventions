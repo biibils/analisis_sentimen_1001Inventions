{
  "nbformat": 4,
  "nbformat_minor": 0,
  "metadata": {
    "colab": {
      "name": "UTS_KapSel.ipynb",
      "provenance": []
    },
    "kernelspec": {
      "name": "python3",
      "display_name": "Python 3"
    },
    "language_info": {
      "name": "python"
    }
  },
  "cells": [
    {
      "cell_type": "markdown",
      "metadata": {
        "id": "fsrk8MqCWOzp"
      },
      "source": [
        "# Scatter Text Data Review Buku ***1001 Inventions: The Enduring Legacy of Muslim Civilization*** dari Amazon"
      ]
    },
    {
      "cell_type": "markdown",
      "metadata": {
        "id": "nc5GK2L2-kFq"
      },
      "source": [
        "## 1. Instalasi Package yang dibutuhkan"
      ]
    },
    {
      "cell_type": "code",
      "metadata": {
        "id": "X4YoMuSHO7JY"
      },
      "source": [
        "pip install scattertext"
      ],
      "execution_count": null,
      "outputs": []
    },
    {
      "cell_type": "code",
      "metadata": {
        "id": "NAg2Pe3IQY0g",
        "colab": {
          "base_uri": "https://localhost:8080/",
          "height": 17
        },
        "outputId": "02e984d1-fcc0-4ecf-b114-c6183dc91b69"
      },
      "source": [
        "%matplotlib inline\n",
        "import scattertext as st\n",
        "import re, io\n",
        "from pprint import pprint\n",
        "import pandas as pd\n",
        "import numpy as np\n",
        "from scipy.stats import rankdata, hmean, norm\n",
        "import spacy\n",
        "import os, pkgutil, json, urllib\n",
        "from urllib.request import urlopen\n",
        "from IPython.display import IFrame\n",
        "from IPython.core.display import display, HTML\n",
        "from scattertext import CorpusFromPandas, produce_scattertext_explorer\n",
        "display(HTML(\"<style>.container { width:98% !important; }</style>\"))"
      ],
      "execution_count": null,
      "outputs": [
        {
          "output_type": "display_data",
          "data": {
            "text/html": [
              "<style>.container { width:98% !important; }</style>"
            ],
            "text/plain": [
              "<IPython.core.display.HTML object>"
            ]
          },
          "metadata": {}
        }
      ]
    },
    {
      "cell_type": "code",
      "metadata": {
        "id": "_U_keIvdQce0"
      },
      "source": [
        "import spacy\n",
        "nlp = spacy.load('en')"
      ],
      "execution_count": null,
      "outputs": []
    },
    {
      "cell_type": "markdown",
      "metadata": {
        "id": "ubbSqezg-swl"
      },
      "source": [
        "## 2. Memanggil Data yang akan digunakan"
      ]
    },
    {
      "cell_type": "code",
      "metadata": {
        "id": "vXtKDsgpQfW4",
        "colab": {
          "base_uri": "https://localhost:8080/",
          "height": 204
        },
        "outputId": "170e94d1-a5ae-42ab-b91f-7a4ed317fe6a"
      },
      "source": [
        "df = pd.read_csv('dataUTS.csv')\n",
        "df.head()"
      ],
      "execution_count": null,
      "outputs": [
        {
          "output_type": "execute_result",
          "data": {
            "text/html": [
              "<div>\n",
              "<style scoped>\n",
              "    .dataframe tbody tr th:only-of-type {\n",
              "        vertical-align: middle;\n",
              "    }\n",
              "\n",
              "    .dataframe tbody tr th {\n",
              "        vertical-align: top;\n",
              "    }\n",
              "\n",
              "    .dataframe thead th {\n",
              "        text-align: right;\n",
              "    }\n",
              "</style>\n",
              "<table border=\"1\" class=\"dataframe\">\n",
              "  <thead>\n",
              "    <tr style=\"text-align: right;\">\n",
              "      <th></th>\n",
              "      <th>type</th>\n",
              "      <th>viewer</th>\n",
              "      <th>text</th>\n",
              "    </tr>\n",
              "  </thead>\n",
              "  <tbody>\n",
              "    <tr>\n",
              "      <th>0</th>\n",
              "      <td>positive</td>\n",
              "      <td>cybernetix</td>\n",
              "      <td>Amazing book on highlighting the contributions...</td>\n",
              "    </tr>\n",
              "    <tr>\n",
              "      <th>1</th>\n",
              "      <td>positive</td>\n",
              "      <td>ma sathar</td>\n",
              "      <td>With increasing bigotry Islamophobia and perse...</td>\n",
              "    </tr>\n",
              "    <tr>\n",
              "      <th>2</th>\n",
              "      <td>positive</td>\n",
              "      <td>amjad kayed</td>\n",
              "      <td>A great book that tells the truth about how mu...</td>\n",
              "    </tr>\n",
              "    <tr>\n",
              "      <th>3</th>\n",
              "      <td>positive</td>\n",
              "      <td>mohd a</td>\n",
              "      <td>I loved it. It took me back years to my high s...</td>\n",
              "    </tr>\n",
              "    <tr>\n",
              "      <th>4</th>\n",
              "      <td>positive</td>\n",
              "      <td>khan</td>\n",
              "      <td>Highly informative books, I bought for my chil...</td>\n",
              "    </tr>\n",
              "  </tbody>\n",
              "</table>\n",
              "</div>"
            ],
            "text/plain": [
              "       type       viewer                                               text\n",
              "0  positive   cybernetix  Amazing book on highlighting the contributions...\n",
              "1  positive    ma sathar  With increasing bigotry Islamophobia and perse...\n",
              "2  positive  amjad kayed  A great book that tells the truth about how mu...\n",
              "3  positive       mohd a  I loved it. It took me back years to my high s...\n",
              "4  positive         khan  Highly informative books, I bought for my chil..."
            ]
          },
          "metadata": {},
          "execution_count": 4
        }
      ]
    },
    {
      "cell_type": "markdown",
      "metadata": {
        "id": "EsKS9UGi-57n"
      },
      "source": [
        "## 3. Membagi text menjadi perkata"
      ]
    },
    {
      "cell_type": "code",
      "metadata": {
        "id": "4xhoMupvUmYV",
        "colab": {
          "base_uri": "https://localhost:8080/",
          "height": 204
        },
        "outputId": "229aa6a0-88b3-4904-d5d1-7068d16e52f1"
      },
      "source": [
        "df['parsed'] = df.text.apply(nlp)\n",
        "df.head()"
      ],
      "execution_count": null,
      "outputs": [
        {
          "output_type": "execute_result",
          "data": {
            "text/html": [
              "<div>\n",
              "<style scoped>\n",
              "    .dataframe tbody tr th:only-of-type {\n",
              "        vertical-align: middle;\n",
              "    }\n",
              "\n",
              "    .dataframe tbody tr th {\n",
              "        vertical-align: top;\n",
              "    }\n",
              "\n",
              "    .dataframe thead th {\n",
              "        text-align: right;\n",
              "    }\n",
              "</style>\n",
              "<table border=\"1\" class=\"dataframe\">\n",
              "  <thead>\n",
              "    <tr style=\"text-align: right;\">\n",
              "      <th></th>\n",
              "      <th>type</th>\n",
              "      <th>viewer</th>\n",
              "      <th>text</th>\n",
              "      <th>parsed</th>\n",
              "    </tr>\n",
              "  </thead>\n",
              "  <tbody>\n",
              "    <tr>\n",
              "      <th>0</th>\n",
              "      <td>positive</td>\n",
              "      <td>cybernetix</td>\n",
              "      <td>Amazing book on highlighting the contributions...</td>\n",
              "      <td>(Amazing, book, on, highlighting, the, contrib...</td>\n",
              "    </tr>\n",
              "    <tr>\n",
              "      <th>1</th>\n",
              "      <td>positive</td>\n",
              "      <td>ma sathar</td>\n",
              "      <td>With increasing bigotry Islamophobia and perse...</td>\n",
              "      <td>(With, increasing, bigotry, Islamophobia, and,...</td>\n",
              "    </tr>\n",
              "    <tr>\n",
              "      <th>2</th>\n",
              "      <td>positive</td>\n",
              "      <td>amjad kayed</td>\n",
              "      <td>A great book that tells the truth about how mu...</td>\n",
              "      <td>(A, great, book, that, tells, the, truth, abou...</td>\n",
              "    </tr>\n",
              "    <tr>\n",
              "      <th>3</th>\n",
              "      <td>positive</td>\n",
              "      <td>mohd a</td>\n",
              "      <td>I loved it. It took me back years to my high s...</td>\n",
              "      <td>(I, loved, it, ., It, took, me, back, years, t...</td>\n",
              "    </tr>\n",
              "    <tr>\n",
              "      <th>4</th>\n",
              "      <td>positive</td>\n",
              "      <td>khan</td>\n",
              "      <td>Highly informative books, I bought for my chil...</td>\n",
              "      <td>(Highly, informative, books, ,, I, bought, for...</td>\n",
              "    </tr>\n",
              "  </tbody>\n",
              "</table>\n",
              "</div>"
            ],
            "text/plain": [
              "       type  ...                                             parsed\n",
              "0  positive  ...  (Amazing, book, on, highlighting, the, contrib...\n",
              "1  positive  ...  (With, increasing, bigotry, Islamophobia, and,...\n",
              "2  positive  ...  (A, great, book, that, tells, the, truth, abou...\n",
              "3  positive  ...  (I, loved, it, ., It, took, me, back, years, t...\n",
              "4  positive  ...  (Highly, informative, books, ,, I, bought, for...\n",
              "\n",
              "[5 rows x 4 columns]"
            ]
          },
          "metadata": {},
          "execution_count": 5
        }
      ]
    },
    {
      "cell_type": "code",
      "metadata": {
        "id": "ac7lsC27Um6U",
        "colab": {
          "base_uri": "https://localhost:8080/"
        },
        "outputId": "5e2cb536-9d0d-4b21-bed8-e448cd7d5869"
      },
      "source": [
        "print(\"Document Count\")\n",
        "print(df.groupby('type')['text'].count())\n",
        "print(\"Word Count\")\n",
        "df.groupby('type').apply(lambda x: x.text.apply(lambda x: len(x.split())).sum())"
      ],
      "execution_count": null,
      "outputs": [
        {
          "output_type": "stream",
          "name": "stdout",
          "text": [
            "Document Count\n",
            "type\n",
            "critical      9\n",
            "positive    166\n",
            "Name: text, dtype: int64\n",
            "Word Count\n"
          ]
        },
        {
          "output_type": "execute_result",
          "data": {
            "text/plain": [
              "type\n",
              "critical     385\n",
              "positive    4162\n",
              "dtype: int64"
            ]
          },
          "metadata": {},
          "execution_count": 6
        }
      ]
    },
    {
      "cell_type": "code",
      "metadata": {
        "id": "ENG1GBDaXA_F"
      },
      "source": [
        "corpus = st.CorpusFromParsedDocuments(df, category_col='type', parsed_col='parsed').build()"
      ],
      "execution_count": null,
      "outputs": []
    },
    {
      "cell_type": "markdown",
      "metadata": {
        "id": "sL85DvIL_Az9"
      },
      "source": [
        "## 4. Memvisualisasikan Data"
      ]
    },
    {
      "cell_type": "code",
      "metadata": {
        "id": "T7UFweRIXXj0",
        "colab": {
          "base_uri": "https://localhost:8080/",
          "height": 741
        },
        "outputId": "c0c3ce0a-eaf0-4891-93ae-6f188b4facfe"
      },
      "source": [
        "html = produce_scattertext_explorer(corpus,\n",
        "                                    category='positive',\n",
        "                                    category_name='Positive',\n",
        "                                    not_category_name='Critical',\n",
        "                                    width_in_pixels=1000,\n",
        "                                    minimum_term_frequency=5,\n",
        "                                    metadata=df['viewer'])\n",
        "file_name = 'BookReviewScattertextScale.html'\n",
        "open(file_name, 'wb').write(html.encode('utf-8'))\n",
        "IFrame(src=file_name, width = 1200, height=700)"
      ],
      "execution_count": null,
      "outputs": [
        {
          "output_type": "execute_result",
          "data": {
            "text/html": [
              "\n",
              "        <iframe\n",
              "            width=\"1200\"\n",
              "            height=\"700\"\n",
              "            src=\"BookReviewScattertextScale.html\"\n",
              "            frameborder=\"0\"\n",
              "            allowfullscreen\n",
              "        ></iframe>\n",
              "        "
            ],
            "text/plain": [
              "<IPython.lib.display.IFrame at 0x7fcf5a312f90>"
            ]
          },
          "metadata": {},
          "execution_count": 8
        }
      ]
    },
    {
      "cell_type": "code",
      "metadata": {
        "colab": {
          "base_uri": "https://localhost:8080/",
          "height": 741
        },
        "id": "y7nSgffe25_U",
        "outputId": "30ce8a41-975a-41b6-88a0-6b44ed37b131"
      },
      "source": [
        "html = st.produce_scattertext_explorer(corpus,\n",
        "                                       category='positive',\n",
        "                                       category_name='Positive',\n",
        "                                       not_category_name='Critical',\n",
        "                                       minimum_term_frequency=5,\n",
        "                                       width_in_pixels=1000,\n",
        "                                       transform=st.Scalers.log_scale_standardize)\n",
        "file_name = 'BookReviewScattertextLog.html'\n",
        "open(file_name, 'wb').write(html.encode('utf-8'))\n",
        "IFrame(src=file_name, width = 1200, height=700)"
      ],
      "execution_count": null,
      "outputs": [
        {
          "output_type": "execute_result",
          "data": {
            "text/html": [
              "\n",
              "        <iframe\n",
              "            width=\"1200\"\n",
              "            height=\"700\"\n",
              "            src=\"BookReviewScattertextLog.html\"\n",
              "            frameborder=\"0\"\n",
              "            allowfullscreen\n",
              "        ></iframe>\n",
              "        "
            ],
            "text/plain": [
              "<IPython.lib.display.IFrame at 0x7fcf5a63fc10>"
            ]
          },
          "metadata": {},
          "execution_count": 9
        }
      ]
    },
    {
      "cell_type": "code",
      "metadata": {
        "colab": {
          "base_uri": "https://localhost:8080/",
          "height": 741
        },
        "id": "9ld6Ubri4vwu",
        "outputId": "5561f156-8610-41f6-9ffa-e4f6a7683feb"
      },
      "source": [
        "html = produce_scattertext_explorer(corpus,\n",
        "                                    category='positive',\n",
        "                                    category_name='Positive',\n",
        "                                    not_category_name='Critical',\n",
        "                                    width_in_pixels=1000,\n",
        "                                    minimum_term_frequency=5,\n",
        "                                    transform=st.Scalers.percentile,\n",
        "                                    metadata=df['viewer'])\n",
        "file_name = 'BookReviewScattertextRankData.html'\n",
        "open(file_name, 'wb').write(html.encode('utf-8'))\n",
        "IFrame(src=file_name, width = 1200, height=700)"
      ],
      "execution_count": null,
      "outputs": [
        {
          "output_type": "execute_result",
          "data": {
            "text/html": [
              "\n",
              "        <iframe\n",
              "            width=\"1200\"\n",
              "            height=\"700\"\n",
              "            src=\"BookReviewScattertextRankData.html\"\n",
              "            frameborder=\"0\"\n",
              "            allowfullscreen\n",
              "        ></iframe>\n",
              "        "
            ],
            "text/plain": [
              "<IPython.lib.display.IFrame at 0x7fcf5a559410>"
            ]
          },
          "metadata": {},
          "execution_count": 10
        }
      ]
    },
    {
      "cell_type": "code",
      "metadata": {
        "colab": {
          "base_uri": "https://localhost:8080/",
          "height": 741
        },
        "id": "Hq5Y_jIeAjJF",
        "outputId": "3804d654-63c5-43c1-a3c5-f201c8239642"
      },
      "source": [
        "html = produce_scattertext_explorer(corpus,\n",
        "                                    category='critical',\n",
        "                                    category_name='Positive',\n",
        "                                    not_category_name='Critical',\n",
        "                                    width_in_pixels=1000,\n",
        "                                    minimum_term_frequency=5,\n",
        "                                    metadata=df['viewer'])\n",
        "file_name = 'CriticalBookReviewScattertextScale.html'\n",
        "open(file_name, 'wb').write(html.encode('utf-8'))\n",
        "IFrame(src=file_name, width = 1200, height=700)"
      ],
      "execution_count": null,
      "outputs": [
        {
          "output_type": "execute_result",
          "data": {
            "text/html": [
              "\n",
              "        <iframe\n",
              "            width=\"1200\"\n",
              "            height=\"700\"\n",
              "            src=\"CriticalBookReviewScattertextScale.html\"\n",
              "            frameborder=\"0\"\n",
              "            allowfullscreen\n",
              "        ></iframe>\n",
              "        "
            ],
            "text/plain": [
              "<IPython.lib.display.IFrame at 0x7fcf5c2b7890>"
            ]
          },
          "metadata": {},
          "execution_count": 11
        }
      ]
    },
    {
      "cell_type": "code",
      "metadata": {
        "colab": {
          "base_uri": "https://localhost:8080/",
          "height": 741
        },
        "id": "9EnLsVXNAqS2",
        "outputId": "ddf68cfe-81e9-4a84-b200-b17f32fed5ef"
      },
      "source": [
        "html = st.produce_scattertext_explorer(corpus,\n",
        "                                       category='critical',\n",
        "                                       category_name='Positive',\n",
        "                                       not_category_name='Critical',\n",
        "                                       minimum_term_frequency=5,\n",
        "                                       width_in_pixels=1000,\n",
        "                                       transform=st.Scalers.log_scale_standardize)\n",
        "file_name = 'CriticalBookReviewScattertextLog.html'\n",
        "open(file_name, 'wb').write(html.encode('utf-8'))\n",
        "IFrame(src=file_name, width = 1200, height=700)"
      ],
      "execution_count": null,
      "outputs": [
        {
          "output_type": "execute_result",
          "data": {
            "text/html": [
              "\n",
              "        <iframe\n",
              "            width=\"1200\"\n",
              "            height=\"700\"\n",
              "            src=\"CriticalBookReviewScattertextLog.html\"\n",
              "            frameborder=\"0\"\n",
              "            allowfullscreen\n",
              "        ></iframe>\n",
              "        "
            ],
            "text/plain": [
              "<IPython.lib.display.IFrame at 0x7fcf5c29fe50>"
            ]
          },
          "metadata": {},
          "execution_count": 12
        }
      ]
    },
    {
      "cell_type": "code",
      "metadata": {
        "colab": {
          "base_uri": "https://localhost:8080/",
          "height": 741
        },
        "id": "CnzMtOMUAtwD",
        "outputId": "7b0c88cf-6911-4c3a-c19d-0a009ee9138f"
      },
      "source": [
        "html = produce_scattertext_explorer(corpus,\n",
        "                                    category='critical',\n",
        "                                    category_name='Positive',\n",
        "                                    not_category_name='Critical',\n",
        "                                    width_in_pixels=1000,\n",
        "                                    minimum_term_frequency=5,\n",
        "                                    transform=st.Scalers.percentile,\n",
        "                                    metadata=df['viewer'])\n",
        "file_name = 'CriticalBookReviewScattertextRankData.html'\n",
        "open(file_name, 'wb').write(html.encode('utf-8'))\n",
        "IFrame(src=file_name, width = 1200, height=700)"
      ],
      "execution_count": null,
      "outputs": [
        {
          "output_type": "execute_result",
          "data": {
            "text/html": [
              "\n",
              "        <iframe\n",
              "            width=\"1200\"\n",
              "            height=\"700\"\n",
              "            src=\"CriticalBookReviewScattertextRankData.html\"\n",
              "            frameborder=\"0\"\n",
              "            allowfullscreen\n",
              "        ></iframe>\n",
              "        "
            ],
            "text/plain": [
              "<IPython.lib.display.IFrame at 0x7fcf5a2c9110>"
            ]
          },
          "metadata": {},
          "execution_count": 13
        }
      ]
    }
  ]
}